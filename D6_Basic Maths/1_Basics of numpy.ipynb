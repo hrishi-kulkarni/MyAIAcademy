{
 "cells": [
  {
   "cell_type": "markdown",
   "metadata": {},
   "source": [
    "# Introduction\n",
    "NumPy is basic building blog for studying applied machine learning and deep learning through Python. It provides an efficient way for computing matrix calculations such as addition, subtraction, multiplication as well as computing transpose, inverse, eigen value and vectors etc."
   ]
  },
  {
   "cell_type": "markdown",
   "metadata": {},
   "source": [
    "## # Creating a vector\n",
    "Use numpy.array to create one dimensional as well as multi-dimensional array."
   ]
  },
  {
   "cell_type": "code",
   "execution_count": 2,
   "metadata": {},
   "outputs": [
    {
     "name": "stdout",
     "output_type": "stream",
     "text": [
      "v1 =  [1 2 3]\n",
      "v2 = \n",
      " [[1]\n",
      " [2]\n",
      " [3]]\n"
     ]
    }
   ],
   "source": [
    "import numpy as np\n",
    "v1 = np.array([1, 2, 3])\n",
    "v2 = np.array([[1],\n",
    "              [2],\n",
    "              [3]])\n",
    "print('v1 = ', v1) \n",
    "print('v2 = \\n', v2)"
   ]
  },
  {
   "cell_type": "markdown",
   "metadata": {},
   "source": [
    "## # Creating sparse matrix\n",
    "Given data with very few non-zero values, one can efficiently represent them using sparse matrix. A frequent situation in ML problem lies in huge data. However, most of the elements are zero. Consider an example where columns of matrix represent every Netflix movie, rows represent users and values of matrix show whether user has seen particular movie or not. In this case, intuitively we can say that most of the users won't watch more than 200-500 movies. There might be more than tens of thousands of movies and million rows. This results into most of the values will be zero.\n"
   ]
  },
  {
   "cell_type": "markdown",
   "metadata": {},
   "source": [
    "Implementation of sparse matrix is out of scope of this tutorial. One can say we can use list of lists or dictionaries in this particular implementation. Enough theory, lets see an example."
   ]
  },
  {
   "cell_type": "code",
   "execution_count": 9,
   "metadata": {},
   "outputs": [
    {
     "name": "stdout",
     "output_type": "stream",
     "text": [
      "  (1, 1)\t1\n",
      "  (2, 0)\t3\n"
     ]
    }
   ],
   "source": [
    "from scipy import sparse\n",
    "\n",
    "matrix_large = np.array([[0, 0, 0, 0, 0, 0, 0, 0, 0, 0],\n",
    "[0, 1, 0, 0, 0, 0, 0, 0, 0, 0],\n",
    "[3, 0, 0, 0, 0, 0, 0, 0, 0, 0]])\n",
    "\n",
    "matrix_sparse = sparse.csr_matrix(matrix_large)    #csr = Compressed Sparse Row\n",
    "print(matrix_sparse)"
   ]
  },
  {
   "cell_type": "markdown",
   "metadata": {},
   "source": [
    "Understand that (1, 1) 1 represents at index (1,1) non-zero value present is 1. Similarly at (2, 0) value present is 3.\n",
    "No need to mention for coding wizards that index starts at 0. :p"
   ]
  },
  {
   "cell_type": "markdown",
   "metadata": {},
   "source": [
    "## # Indexing and Slicing"
   ]
  },
  {
   "cell_type": "code",
   "execution_count": 12,
   "metadata": {},
   "outputs": [
    {
     "name": "stdout",
     "output_type": "stream",
     "text": [
      "3\n",
      "5\n",
      "[1 2 3 4 5 6]\n",
      "[1 2 3]\n",
      "[4 5 6]\n",
      "6\n"
     ]
    }
   ],
   "source": [
    "# Create row vector\n",
    "vector = np.array([1, 2, 3, 4, 5, 6])\n",
    "\n",
    "# Select third element of vector\n",
    "print(vector[2])\n",
    "\n",
    "# Select second row, second column\n",
    "print(matrix[1,1])\n",
    "\n",
    "# Selects all elements\n",
    "print(vector[:])\n",
    "\n",
    "# Selecting upto 3rd index from start i.e., 0,1,2\n",
    "print(vector[:3])\n",
    "\n",
    "# Selecting everything after 3rd element to the end\n",
    "print(vector[3:])\n",
    "\n",
    "# Last element\n",
    "print(vector[-1])"
   ]
  },
  {
   "cell_type": "code",
   "execution_count": 16,
   "metadata": {},
   "outputs": [
    {
     "name": "stdout",
     "output_type": "stream",
     "text": [
      "[[1 2 3]\n",
      " [4 5 6]]\n",
      "\n",
      " [[7 8 9]]\n"
     ]
    }
   ],
   "source": [
    "# Create matrix\n",
    "matrix = np.array([[1, 2, 3],\n",
    "[4, 5, 6],\n",
    "[7, 8, 9]])\n",
    "\n",
    "#Select first two rows and all columns\n",
    "print(matrix[:2][:])\n",
    "\n",
    "# Selects 1st and 2nd row along with all columns after 1\n",
    "print('\\n', matrix[1:3][1:])"
   ]
  },
  {
   "cell_type": "markdown",
   "metadata": {},
   "source": [
    "## # Describing a matrix"
   ]
  },
  {
   "cell_type": "code",
   "execution_count": 3,
   "metadata": {},
   "outputs": [
    {
     "data": {
      "text/plain": [
       "(3, 4)"
      ]
     },
     "execution_count": 3,
     "metadata": {},
     "output_type": "execute_result"
    }
   ],
   "source": [
    "# Create matrix\n",
    "matrix = np.array([[1, 2, 3, 4],\n",
    "[5, 6, 7, 8],\n",
    "[9, 10, 11, 12]])\n",
    "\n",
    "#View no of rows and columns\n",
    "matrix.shape"
   ]
  },
  {
   "cell_type": "code",
   "execution_count": 5,
   "metadata": {},
   "outputs": [
    {
     "data": {
      "text/plain": [
       "2"
      ]
     },
     "execution_count": 5,
     "metadata": {},
     "output_type": "execute_result"
    }
   ],
   "source": [
    "# View dimension of matrix\n",
    "matrix.ndim"
   ]
  },
  {
   "cell_type": "code",
   "execution_count": 7,
   "metadata": {},
   "outputs": [
    {
     "name": "stdout",
     "output_type": "stream",
     "text": [
      "12\n",
      "1\n"
     ]
    }
   ],
   "source": [
    "# Find min and max value\n",
    "print(np.max(matrix))\n",
    "print(np.min(matrix))"
   ]
  },
  {
   "cell_type": "markdown",
   "metadata": {},
   "source": [
    "One important parameter of max or min function is 'axis'.\n",
    "Here if we want to apply function along the columns (i.e. for each column, function will be applied) axis = 0 is provided. Thus for each column, we'll get a scalar value, which ultimately results into array of size equal to no. of columns."
   ]
  },
  {
   "cell_type": "code",
   "execution_count": 9,
   "metadata": {},
   "outputs": [
    {
     "data": {
      "text/plain": [
       "array([ 9, 10, 11, 12])"
      ]
     },
     "execution_count": 9,
     "metadata": {},
     "output_type": "execute_result"
    }
   ],
   "source": [
    "np.max(matrix, axis= 0)"
   ]
  },
  {
   "cell_type": "code",
   "execution_count": 11,
   "metadata": {},
   "outputs": [
    {
     "data": {
      "text/plain": [
       "array([ 4,  8, 12])"
      ]
     },
     "execution_count": 11,
     "metadata": {},
     "output_type": "execute_result"
    }
   ],
   "source": [
    "np.max(matrix, axis = 1)    # Here we'll get ans for each row, resulting into array of size equal to no. of rows"
   ]
  },
  {
   "cell_type": "code",
   "execution_count": null,
   "metadata": {},
   "outputs": [],
   "source": []
  }
 ],
 "metadata": {
  "kernelspec": {
   "display_name": "Python 3",
   "language": "python",
   "name": "python3"
  },
  "language_info": {
   "codemirror_mode": {
    "name": "ipython",
    "version": 3
   },
   "file_extension": ".py",
   "mimetype": "text/x-python",
   "name": "python",
   "nbconvert_exporter": "python",
   "pygments_lexer": "ipython3",
   "version": "3.6.6"
  }
 },
 "nbformat": 4,
 "nbformat_minor": 2
}
