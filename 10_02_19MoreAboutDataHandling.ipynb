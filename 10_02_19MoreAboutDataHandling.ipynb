{
  "nbformat": 4,
  "nbformat_minor": 0,
  "metadata": {
    "colab": {
      "name": "10-02-19MoreAboutDataHandling.ipynb",
      "version": "0.3.2",
      "provenance": [],
      "include_colab_link": true
    },
    "kernelspec": {
      "name": "python3",
      "display_name": "Python 3"
    }
  },
  "cells": [
    {
      "cell_type": "markdown",
      "metadata": {
        "id": "view-in-github",
        "colab_type": "text"
      },
      "source": [
        "<a href=\"https://colab.research.google.com/github/hrishi-kulkarni/MyAIAcademy/blob/master/10_02_19MoreAboutDataHandling.ipynb\" target=\"_parent\"><img src=\"https://colab.research.google.com/assets/colab-badge.svg\" alt=\"Open In Colab\"/></a>"
      ]
    },
    {
      "metadata": {
        "id": "nx1T2Rkyk0b8",
        "colab_type": "code",
        "colab": {}
      },
      "cell_type": "code",
      "source": [
        ""
      ],
      "execution_count": 0,
      "outputs": []
    },
    {
      "metadata": {
        "id": "Ua9tv5g1pVMU",
        "colab_type": "code",
        "colab": {
          "base_uri": "https://localhost:8080/",
          "height": 50
        },
        "outputId": "8d599af5-6683-4be1-c617-7d1b4e934c33"
      },
      "cell_type": "code",
      "source": [
        "# Install the PyDrive wrapper & import libraries.\n",
        "# This only needs to be done once per notebook.\n",
        "!pip install -U -q PyDrive\n",
        "from pydrive.auth import GoogleAuth\n",
        "from pydrive.drive import GoogleDrive\n",
        "from google.colab import auth\n",
        "from oauth2client.client import GoogleCredentials\n",
        "\n",
        "# Authenticate and create the PyDrive client.\n",
        "# This only needs to be done once per notebook.\n",
        "auth.authenticate_user()\n",
        "gauth = GoogleAuth()\n",
        "gauth.credentials = GoogleCredentials.get_application_default()\n",
        "drive = GoogleDrive(gauth)\n",
        "\n",
        "# List .txt files in the root.\n",
        "#"
      ],
      "execution_count": 1,
      "outputs": [
        {
          "output_type": "stream",
          "text": [
            "\u001b[?25l\r\u001b[K    1% |▎                               | 10kB 19.9MB/s eta 0:00:01\r\u001b[K    2% |▋                               | 20kB 3.1MB/s eta 0:00:01\r\u001b[K    3% |█                               | 30kB 4.5MB/s eta 0:00:01\r\u001b[K    4% |█▎                              | 40kB 2.9MB/s eta 0:00:01\r\u001b[K    5% |█▋                              | 51kB 3.6MB/s eta 0:00:01\r\u001b[K    6% |██                              | 61kB 4.3MB/s eta 0:00:01\r\u001b[K    7% |██▎                             | 71kB 4.9MB/s eta 0:00:01\r\u001b[K    8% |██▋                             | 81kB 5.5MB/s eta 0:00:01\r\u001b[K    9% |███                             | 92kB 6.2MB/s eta 0:00:01\r\u001b[K    10% |███▎                            | 102kB 4.8MB/s eta 0:00:01\r\u001b[K    11% |███▋                            | 112kB 4.9MB/s eta 0:00:01\r\u001b[K    12% |████                            | 122kB 6.7MB/s eta 0:00:01\r\u001b[K    13% |████▎                           | 133kB 6.8MB/s eta 0:00:01\r\u001b[K    14% |████▋                           | 143kB 12.4MB/s eta 0:00:01\r\u001b[K    15% |█████                           | 153kB 12.6MB/s eta 0:00:01\r\u001b[K    16% |█████▎                          | 163kB 12.6MB/s eta 0:00:01\r\u001b[K    17% |█████▋                          | 174kB 12.3MB/s eta 0:00:01\r\u001b[K    18% |██████                          | 184kB 12.3MB/s eta 0:00:01\r\u001b[K    19% |██████▎                         | 194kB 12.4MB/s eta 0:00:01\r\u001b[K    20% |██████▋                         | 204kB 45.7MB/s eta 0:00:01\r\u001b[K    21% |███████                         | 215kB 14.3MB/s eta 0:00:01\r\u001b[K    22% |███████▎                        | 225kB 14.4MB/s eta 0:00:01\r\u001b[K    23% |███████▋                        | 235kB 14.5MB/s eta 0:00:01\r\u001b[K    24% |████████                        | 245kB 14.4MB/s eta 0:00:01\r\u001b[K    25% |████████▎                       | 256kB 14.4MB/s eta 0:00:01\r\u001b[K    26% |████████▋                       | 266kB 13.8MB/s eta 0:00:01\r\u001b[K    27% |█████████                       | 276kB 14.2MB/s eta 0:00:01\r\u001b[K    29% |█████████▎                      | 286kB 14.3MB/s eta 0:00:01\r\u001b[K    30% |█████████▋                      | 296kB 14.2MB/s eta 0:00:01\r\u001b[K    31% |██████████                      | 307kB 14.5MB/s eta 0:00:01\r\u001b[K    32% |██████████▎                     | 317kB 49.4MB/s eta 0:00:01\r\u001b[K    33% |██████████▋                     | 327kB 49.7MB/s eta 0:00:01\r\u001b[K    34% |███████████                     | 337kB 52.4MB/s eta 0:00:01\r\u001b[K    35% |███████████▎                    | 348kB 48.9MB/s eta 0:00:01\r\u001b[K    36% |███████████▋                    | 358kB 48.9MB/s eta 0:00:01\r\u001b[K    37% |████████████                    | 368kB 57.2MB/s eta 0:00:01\r\u001b[K    38% |████████████▎                   | 378kB 58.0MB/s eta 0:00:01\r\u001b[K    39% |████████████▋                   | 389kB 58.4MB/s eta 0:00:01\r\u001b[K    40% |█████████████                   | 399kB 18.0MB/s eta 0:00:01\r\u001b[K    41% |█████████████▎                  | 409kB 17.7MB/s eta 0:00:01\r\u001b[K    42% |█████████████▋                  | 419kB 17.8MB/s eta 0:00:01\r\u001b[K    43% |██████████████                  | 430kB 17.7MB/s eta 0:00:01\r\u001b[K    44% |██████████████▎                 | 440kB 17.5MB/s eta 0:00:01\r\u001b[K    45% |██████████████▋                 | 450kB 17.6MB/s eta 0:00:01\r\u001b[K    46% |███████████████                 | 460kB 17.6MB/s eta 0:00:01\r\u001b[K    47% |███████████████▎                | 471kB 17.7MB/s eta 0:00:01\r\u001b[K    48% |███████████████▋                | 481kB 17.7MB/s eta 0:00:01\r\u001b[K    49% |████████████████                | 491kB 17.6MB/s eta 0:00:01\r\u001b[K    50% |████████████████▎               | 501kB 56.4MB/s eta 0:00:01\r\u001b[K    51% |████████████████▋               | 512kB 53.9MB/s eta 0:00:01\r\u001b[K    52% |█████████████████               | 522kB 54.0MB/s eta 0:00:01\r\u001b[K    53% |█████████████████▎              | 532kB 55.2MB/s eta 0:00:01\r\u001b[K    54% |█████████████████▋              | 542kB 56.8MB/s eta 0:00:01\r\u001b[K    55% |██████████████████              | 552kB 63.2MB/s eta 0:00:01\r\u001b[K    57% |██████████████████▎             | 563kB 63.6MB/s eta 0:00:01\r\u001b[K    58% |██████████████████▋             | 573kB 62.2MB/s eta 0:00:01\r\u001b[K    59% |███████████████████             | 583kB 62.9MB/s eta 0:00:01\r\u001b[K    60% |███████████████████▎            | 593kB 62.9MB/s eta 0:00:01\r\u001b[K    61% |███████████████████▋            | 604kB 62.7MB/s eta 0:00:01\r\u001b[K    62% |████████████████████            | 614kB 68.5MB/s eta 0:00:01\r\u001b[K    63% |████████████████████▎           | 624kB 20.2MB/s eta 0:00:01\r\u001b[K    64% |████████████████████▋           | 634kB 20.0MB/s eta 0:00:01\r\u001b[K    65% |█████████████████████           | 645kB 20.1MB/s eta 0:00:01\r\u001b[K    66% |█████████████████████▎          | 655kB 18.2MB/s eta 0:00:01\r\u001b[K    67% |█████████████████████▋          | 665kB 16.7MB/s eta 0:00:01\r\u001b[K    68% |██████████████████████          | 675kB 16.7MB/s eta 0:00:01\r\u001b[K    69% |██████████████████████▎         | 686kB 16.7MB/s eta 0:00:01\r\u001b[K    70% |██████████████████████▋         | 696kB 16.7MB/s eta 0:00:01\r\u001b[K    71% |███████████████████████         | 706kB 16.6MB/s eta 0:00:01\r\u001b[K    72% |███████████████████████▎        | 716kB 16.7MB/s eta 0:00:01\r\u001b[K    73% |███████████████████████▋        | 727kB 39.6MB/s eta 0:00:01\r\u001b[K    74% |████████████████████████        | 737kB 39.9MB/s eta 0:00:01\r\u001b[K    75% |████████████████████████▎       | 747kB 40.2MB/s eta 0:00:01\r\u001b[K    76% |████████████████████████▋       | 757kB 49.8MB/s eta 0:00:01\r\u001b[K    77% |████████████████████████▉       | 768kB 65.7MB/s eta 0:00:01\r\u001b[K    78% |█████████████████████████▏      | 778kB 67.4MB/s eta 0:00:01\r\u001b[K    79% |█████████████████████████▌      | 788kB 66.8MB/s eta 0:00:01\r\u001b[K    80% |█████████████████████████▉      | 798kB 66.3MB/s eta 0:00:01\r\u001b[K    81% |██████████████████████████▏     | 808kB 66.8MB/s eta 0:00:01\r\u001b[K    82% |██████████████████████████▌     | 819kB 66.4MB/s eta 0:00:01\r\u001b[K    83% |██████████████████████████▉     | 829kB 66.9MB/s eta 0:00:01\r\u001b[K    85% |███████████████████████████▏    | 839kB 67.8MB/s eta 0:00:01\r\u001b[K    86% |███████████████████████████▌    | 849kB 68.1MB/s eta 0:00:01\r\u001b[K    87% |███████████████████████████▉    | 860kB 61.3MB/s eta 0:00:01\r\u001b[K    88% |████████████████████████████▏   | 870kB 61.1MB/s eta 0:00:01\r\u001b[K    89% |████████████████████████████▌   | 880kB 61.7MB/s eta 0:00:01\r\u001b[K    90% |████████████████████████████▉   | 890kB 61.6MB/s eta 0:00:01\r\u001b[K    91% |█████████████████████████████▏  | 901kB 61.9MB/s eta 0:00:01\r\u001b[K    92% |█████████████████████████████▌  | 911kB 62.6MB/s eta 0:00:01\r\u001b[K    93% |█████████████████████████████▉  | 921kB 62.1MB/s eta 0:00:01\r\u001b[K    94% |██████████████████████████████▏ | 931kB 62.3MB/s eta 0:00:01\r\u001b[K    95% |██████████████████████████████▌ | 942kB 62.8MB/s eta 0:00:01\r\u001b[K    96% |██████████████████████████████▉ | 952kB 62.2MB/s eta 0:00:01\r\u001b[K    97% |███████████████████████████████▏| 962kB 70.4MB/s eta 0:00:01\r\u001b[K    98% |███████████████████████████████▌| 972kB 71.0MB/s eta 0:00:01\r\u001b[K    99% |███████████████████████████████▉| 983kB 70.3MB/s eta 0:00:01\r\u001b[K    100% |████████████████████████████████| 993kB 21.7MB/s \n",
            "\u001b[?25h  Building wheel for PyDrive (setup.py) ... \u001b[?25ldone\n",
            "\u001b[?25h"
          ],
          "name": "stdout"
        }
      ]
    },
    {
      "metadata": {
        "id": "k2mpz44LpXNV",
        "colab_type": "code",
        "colab": {
          "base_uri": "https://localhost:8080/",
          "height": 34
        },
        "outputId": "379c48f1-0561-485f-dcb0-731e7b11cf1e"
      },
      "cell_type": "code",
      "source": [
        "# Search query reference:\n",
        "# https://developers.google.com/drive/v2/web/search-parameters\n",
        "listed = drive.ListFile({'q': \"title contains '.csv' and 'root' in parents\"}).GetList()\n",
        "for file in listed:\n",
        "  print('title {}, id {}'.format(file['title'], file['id']))"
      ],
      "execution_count": 2,
      "outputs": [
        {
          "output_type": "stream",
          "text": [
            "title mobile_cleaned.csv, id 1q-NiMvnnfmZ-oGK-BNZ4A5drdDkP1AXt\n"
          ],
          "name": "stdout"
        }
      ]
    },
    {
      "metadata": {
        "id": "QtasEmIWpv3B",
        "colab_type": "code",
        "colab": {}
      },
      "cell_type": "code",
      "source": [
        ""
      ],
      "execution_count": 0,
      "outputs": []
    },
    {
      "metadata": {
        "id": "dR_vv_r6s2jq",
        "colab_type": "code",
        "colab": {}
      },
      "cell_type": "code",
      "source": [
        "\n",
        "\n",
        "# Download a file based on its file ID.\n",
        "#\n",
        "# A file ID looks like: laggVyWshwcyP6kEI-y_W3P8D26sz\n",
        "file_id = '1q-NiMvnnfmZ-oGK-BNZ4A5drdDkP1AXt'\n",
        "downloaded = drive.CreateFile({'id': file_id})\n",
        "print('Downloaded content \"{}\"'.format(downloaded.GetContentString()))"
      ],
      "execution_count": 0,
      "outputs": []
    },
    {
      "metadata": {
        "id": "9D1HLJzos_Q0",
        "colab_type": "code",
        "colab": {}
      },
      "cell_type": "code",
      "source": [
        "downloaded.GetContentFile('mobile_cleaned_downloaded.csv')"
      ],
      "execution_count": 0,
      "outputs": []
    },
    {
      "metadata": {
        "id": "SS5fonqktXnP",
        "colab_type": "code",
        "colab": {
          "base_uri": "https://localhost:8080/",
          "height": 34
        },
        "outputId": "d78b809c-af05-492a-abe9-a973a76ed9ee"
      },
      "cell_type": "code",
      "source": [
        "!ls"
      ],
      "execution_count": 5,
      "outputs": [
        {
          "output_type": "stream",
          "text": [
            "adc.json  mobile_cleaned_downloaded.csv  sample_data\n"
          ],
          "name": "stdout"
        }
      ]
    },
    {
      "metadata": {
        "id": "NQqt2J_xtYwa",
        "colab_type": "code",
        "colab": {
          "base_uri": "https://localhost:8080/",
          "height": 244
        },
        "outputId": "67600f48-f785-4f2d-b9a7-8ee7fb940908"
      },
      "cell_type": "code",
      "source": [
        "import pandas as pd\n",
        "df = pd.read_csv('mobile_cleaned_downloaded.csv')\n",
        "df.head()"
      ],
      "execution_count": 7,
      "outputs": [
        {
          "output_type": "execute_result",
          "data": {
            "text/html": [
              "<div>\n",
              "<style scoped>\n",
              "    .dataframe tbody tr th:only-of-type {\n",
              "        vertical-align: middle;\n",
              "    }\n",
              "\n",
              "    .dataframe tbody tr th {\n",
              "        vertical-align: top;\n",
              "    }\n",
              "\n",
              "    .dataframe thead th {\n",
              "        text-align: right;\n",
              "    }\n",
              "</style>\n",
              "<table border=\"1\" class=\"dataframe\">\n",
              "  <thead>\n",
              "    <tr style=\"text-align: right;\">\n",
              "      <th></th>\n",
              "      <th>sim_type</th>\n",
              "      <th>aperture</th>\n",
              "      <th>gpu_rank</th>\n",
              "      <th>weight</th>\n",
              "      <th>stand_by_time</th>\n",
              "      <th>processor_frequency</th>\n",
              "      <th>thickness</th>\n",
              "      <th>flash_type</th>\n",
              "      <th>front_camera_resolution</th>\n",
              "      <th>auto_focus</th>\n",
              "      <th>...</th>\n",
              "      <th>micro_sd_slot</th>\n",
              "      <th>screen_pixel_density</th>\n",
              "      <th>water_proof_rate</th>\n",
              "      <th>phone_width</th>\n",
              "      <th>expandable_memory</th>\n",
              "      <th>version</th>\n",
              "      <th>usb_type</th>\n",
              "      <th>battery_capacity</th>\n",
              "      <th>processor_rank</th>\n",
              "      <th>is_liked</th>\n",
              "    </tr>\n",
              "  </thead>\n",
              "  <tbody>\n",
              "    <tr>\n",
              "      <th>0</th>\n",
              "      <td>0</td>\n",
              "      <td>12</td>\n",
              "      <td>55</td>\n",
              "      <td>155.0</td>\n",
              "      <td>250</td>\n",
              "      <td>1.3</td>\n",
              "      <td>10.5</td>\n",
              "      <td>5</td>\n",
              "      <td>2.00</td>\n",
              "      <td>0</td>\n",
              "      <td>...</td>\n",
              "      <td>4</td>\n",
              "      <td>2</td>\n",
              "      <td>3</td>\n",
              "      <td>67.8</td>\n",
              "      <td>64.0</td>\n",
              "      <td>5</td>\n",
              "      <td>3</td>\n",
              "      <td>2000</td>\n",
              "      <td>125</td>\n",
              "      <td>1</td>\n",
              "    </tr>\n",
              "    <tr>\n",
              "      <th>1</th>\n",
              "      <td>0</td>\n",
              "      <td>1</td>\n",
              "      <td>55</td>\n",
              "      <td>132.0</td>\n",
              "      <td>300</td>\n",
              "      <td>1.3</td>\n",
              "      <td>10.6</td>\n",
              "      <td>5</td>\n",
              "      <td>0.30</td>\n",
              "      <td>1</td>\n",
              "      <td>...</td>\n",
              "      <td>4</td>\n",
              "      <td>4</td>\n",
              "      <td>6</td>\n",
              "      <td>64.0</td>\n",
              "      <td>32.0</td>\n",
              "      <td>5</td>\n",
              "      <td>3</td>\n",
              "      <td>2000</td>\n",
              "      <td>165</td>\n",
              "      <td>1</td>\n",
              "    </tr>\n",
              "    <tr>\n",
              "      <th>2</th>\n",
              "      <td>0</td>\n",
              "      <td>9</td>\n",
              "      <td>55</td>\n",
              "      <td>142.0</td>\n",
              "      <td>329</td>\n",
              "      <td>1.5</td>\n",
              "      <td>8.5</td>\n",
              "      <td>5</td>\n",
              "      <td>2.00</td>\n",
              "      <td>3</td>\n",
              "      <td>...</td>\n",
              "      <td>4</td>\n",
              "      <td>9</td>\n",
              "      <td>6</td>\n",
              "      <td>72.0</td>\n",
              "      <td>32.0</td>\n",
              "      <td>6</td>\n",
              "      <td>3</td>\n",
              "      <td>2500</td>\n",
              "      <td>164</td>\n",
              "      <td>0</td>\n",
              "    </tr>\n",
              "    <tr>\n",
              "      <th>3</th>\n",
              "      <td>0</td>\n",
              "      <td>8</td>\n",
              "      <td>55</td>\n",
              "      <td>152.0</td>\n",
              "      <td>385</td>\n",
              "      <td>1.3</td>\n",
              "      <td>8.0</td>\n",
              "      <td>5</td>\n",
              "      <td>2.00</td>\n",
              "      <td>3</td>\n",
              "      <td>...</td>\n",
              "      <td>4</td>\n",
              "      <td>1</td>\n",
              "      <td>3</td>\n",
              "      <td>75.1</td>\n",
              "      <td>32.0</td>\n",
              "      <td>6</td>\n",
              "      <td>3</td>\n",
              "      <td>3000</td>\n",
              "      <td>165</td>\n",
              "      <td>1</td>\n",
              "    </tr>\n",
              "    <tr>\n",
              "      <th>4</th>\n",
              "      <td>1</td>\n",
              "      <td>1</td>\n",
              "      <td>55</td>\n",
              "      <td>234.0</td>\n",
              "      <td>385</td>\n",
              "      <td>1.3</td>\n",
              "      <td>7.9</td>\n",
              "      <td>5</td>\n",
              "      <td>1.92</td>\n",
              "      <td>3</td>\n",
              "      <td>...</td>\n",
              "      <td>4</td>\n",
              "      <td>1</td>\n",
              "      <td>6</td>\n",
              "      <td>91.0</td>\n",
              "      <td>32.0</td>\n",
              "      <td>6</td>\n",
              "      <td>3</td>\n",
              "      <td>3000</td>\n",
              "      <td>165</td>\n",
              "      <td>0</td>\n",
              "    </tr>\n",
              "  </tbody>\n",
              "</table>\n",
              "<p>5 rows × 40 columns</p>\n",
              "</div>"
            ],
            "text/plain": [
              "   sim_type  aperture  gpu_rank  weight  stand_by_time  processor_frequency  \\\n",
              "0         0        12        55   155.0            250                  1.3   \n",
              "1         0         1        55   132.0            300                  1.3   \n",
              "2         0         9        55   142.0            329                  1.5   \n",
              "3         0         8        55   152.0            385                  1.3   \n",
              "4         1         1        55   234.0            385                  1.3   \n",
              "\n",
              "   thickness  flash_type  front_camera_resolution  auto_focus    ...     \\\n",
              "0       10.5           5                     2.00           0    ...      \n",
              "1       10.6           5                     0.30           1    ...      \n",
              "2        8.5           5                     2.00           3    ...      \n",
              "3        8.0           5                     2.00           3    ...      \n",
              "4        7.9           5                     1.92           3    ...      \n",
              "\n",
              "   micro_sd_slot  screen_pixel_density  water_proof_rate  phone_width  \\\n",
              "0              4                     2                 3         67.8   \n",
              "1              4                     4                 6         64.0   \n",
              "2              4                     9                 6         72.0   \n",
              "3              4                     1                 3         75.1   \n",
              "4              4                     1                 6         91.0   \n",
              "\n",
              "   expandable_memory  version  usb_type  battery_capacity  processor_rank  \\\n",
              "0               64.0        5         3              2000             125   \n",
              "1               32.0        5         3              2000             165   \n",
              "2               32.0        6         3              2500             164   \n",
              "3               32.0        6         3              3000             165   \n",
              "4               32.0        6         3              3000             165   \n",
              "\n",
              "   is_liked  \n",
              "0         1  \n",
              "1         1  \n",
              "2         0  \n",
              "3         1  \n",
              "4         0  \n",
              "\n",
              "[5 rows x 40 columns]"
            ]
          },
          "metadata": {
            "tags": []
          },
          "execution_count": 7
        }
      ]
    },
    {
      "metadata": {
        "id": "a7GMZ6kitrTX",
        "colab_type": "code",
        "colab": {
          "base_uri": "https://localhost:8080/",
          "height": 364
        },
        "outputId": "bdc73702-f4d5-4de3-b8e1-0bd5f01b01b3"
      },
      "cell_type": "code",
      "source": [
        "import matplotlib.pyplot as plt\n",
        "plt.quiver(0,0,5,5)"
      ],
      "execution_count": 8,
      "outputs": [
        {
          "output_type": "execute_result",
          "data": {
            "text/plain": [
              "<matplotlib.quiver.Quiver at 0x7fb556e37be0>"
            ]
          },
          "metadata": {
            "tags": []
          },
          "execution_count": 8
        },
        {
          "output_type": "display_data",
          "data": {
            "image/png": "[encoded data removed]",
            "text/plain": [
              "<Figure size 576x396 with 1 Axes>"
            ]
          },
          "metadata": {
            "tags": []
          }
        }
      ]
    },
    {
      "metadata": {
        "id": "9G1eE7KU-Fqj",
        "colab_type": "code",
        "colab": {
          "base_uri": "https://localhost:8080/",
          "height": 364
        },
        "outputId": "2b8b2520-001f-413f-a8d8-be929bed3486"
      },
      "cell_type": "code",
      "source": [
        "plt.quiver(0,0,5,5, scale_units = 'xy', angles = 'xy', scale=1)"
      ],
      "execution_count": 9,
      "outputs": [
        {
          "output_type": "execute_result",
          "data": {
            "text/plain": [
              "<matplotlib.quiver.Quiver at 0x7fb554dacfd0>"
            ]
          },
          "metadata": {
            "tags": []
          },
          "execution_count": 9
        },
        {
          "output_type": "display_data",
          "data": {
            "image/png": "[encoded data removed]",
            "text/plain": [
              "<Figure size 576x396 with 1 Axes>"
            ]
          },
          "metadata": {
            "tags": []
          }
        }
      ]
    },
    {
      "metadata": {
        "id": "rI3Q05Qt-Tw4",
        "colab_type": "code",
        "colab": {
          "base_uri": "https://localhost:8080/",
          "height": 368
        },
        "outputId": "51a1ed3a-c929-4725-cff8-149389346418"
      },
      "cell_type": "code",
      "source": [
        "plt.quiver(0,0,5,5, scale_units = 'xy', angles = 'xy', scale=1)\n",
        "plt.xlim(0, 10)\n",
        "plt.ylim(0, 10)"
      ],
      "execution_count": 10,
      "outputs": [
        {
          "output_type": "execute_result",
          "data": {
            "text/plain": [
              "(0, 10)"
            ]
          },
          "metadata": {
            "tags": []
          },
          "execution_count": 10
        },
        {
          "output_type": "display_data",
          "data": {
            "image/png": "[encoded data removed]",
            "text/plain": [
              "<Figure size 576x396 with 1 Axes>"
            ]
          },
          "metadata": {
            "tags": []
          }
        }
      ]
    },
    {
      "metadata": {
        "id": "K02deMhk-bfp",
        "colab_type": "code",
        "colab": {}
      },
      "cell_type": "code",
      "source": [
        "import numpy as np"
      ],
      "execution_count": 0,
      "outputs": []
    },
    {
      "metadata": {
        "id": "bpjNyUvXCa35",
        "colab_type": "code",
        "colab": {}
      },
      "cell_type": "code",
      "source": [
        "a = np.array([3, 4])\n",
        "b = np.array([4, -1])"
      ],
      "execution_count": 0,
      "outputs": []
    },
    {
      "metadata": {
        "id": "MuPLhfonCkSf",
        "colab_type": "code",
        "colab": {
          "base_uri": "https://localhost:8080/",
          "height": 34
        },
        "outputId": "82a66f36-e3da-4d5f-caf8-f29208aae6b6"
      },
      "cell_type": "code",
      "source": [
        "a_dot_b = np.dot(a, b)\n",
        "a_dot_b"
      ],
      "execution_count": 15,
      "outputs": [
        {
          "output_type": "execute_result",
          "data": {
            "text/plain": [
              "8"
            ]
          },
          "metadata": {
            "tags": []
          },
          "execution_count": 15
        }
      ]
    },
    {
      "metadata": {
        "id": "GydAnGeTCrLJ",
        "colab_type": "code",
        "colab": {
          "base_uri": "https://localhost:8080/",
          "height": 34
        },
        "outputId": "f761efbc-5982-4aa8-8628-d1ae1b306ecd"
      },
      "cell_type": "code",
      "source": [
        "a_on_b = np.dot(a, b) / np.linalg.norm(b)\n",
        "a_on_b"
      ],
      "execution_count": 16,
      "outputs": [
        {
          "output_type": "execute_result",
          "data": {
            "text/plain": [
              "1.9402850002906638"
            ]
          },
          "metadata": {
            "tags": []
          },
          "execution_count": 16
        }
      ]
    },
    {
      "metadata": {
        "id": "Nz-QLOZDDLv5",
        "colab_type": "code",
        "colab": {}
      },
      "cell_type": "code",
      "source": [
        ""
      ],
      "execution_count": 0,
      "outputs": []
    }
  ]
}