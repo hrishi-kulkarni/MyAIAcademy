{
 "cells": [
  {
   "cell_type": "code",
   "execution_count": 5,
   "metadata": {},
   "outputs": [
    {
     "name": "stdout",
     "output_type": "stream",
     "text": [
      "<__main__.Employee object at 0x000001E796BEC160>    <__main__.Employee object at 0x000001E796BEC128>\n"
     ]
    }
   ],
   "source": [
    "class Employee:\n",
    "    pass\n",
    "\n",
    "e1 = Employee()\n",
    "e2 = Employee()\n",
    "\n",
    "print(e1,'  ',e2)"
   ]
  },
  {
   "cell_type": "code",
   "execution_count": 6,
   "metadata": {},
   "outputs": [],
   "source": [
    "e1.name = 'e1'\n",
    "e1.salary = 100\n",
    "\n",
    "e2.name = 'e2'\n",
    "e2.salary = 150"
   ]
  },
  {
   "cell_type": "markdown",
   "metadata": {},
   "source": [
    "Adding instance variable like above is not always beneficial and error-prone. Thus not scalable."
   ]
  },
  {
   "cell_type": "code",
   "execution_count": 10,
   "metadata": {},
   "outputs": [
    {
     "name": "stdout",
     "output_type": "stream",
     "text": [
      "e1\n"
     ]
    }
   ],
   "source": [
    "class Employee:\n",
    "    def __init__(self, name, salary):\n",
    "        self.name = name\n",
    "        self.salary = salary\n",
    "    def printName(self):\n",
    "        print(self.name)\n",
    "        \n",
    "e1 = Employee('e1', 1000)\n",
    "e1.printName()"
   ]
  },
  {
   "cell_type": "markdown",
   "metadata": {},
   "source": [
    "# Class variable"
   ]
  },
  {
   "cell_type": "code",
   "execution_count": 14,
   "metadata": {},
   "outputs": [
    {
     "name": "stdout",
     "output_type": "stream",
     "text": [
      "e1\n"
     ]
    },
    {
     "data": {
      "text/plain": [
       "1"
      ]
     },
     "execution_count": 14,
     "metadata": {},
     "output_type": "execute_result"
    }
   ],
   "source": [
    "class Employee:\n",
    "    raiseAmt = 1.04\n",
    "    noOfEmployee = 0\n",
    "    def __init__(self, name, salary):\n",
    "        self.name = name\n",
    "        self.salary = salary\n",
    "        Employee.noOfEmployee += 1\n",
    "    def printName(self):\n",
    "        print(self.name)\n",
    "    def raiseAmount(self):\n",
    "        self.salary = self.salary * self.raiseAmt\n",
    "        \n",
    "e1 = Employee('e1', 1000)\n",
    "e1.printName()\n",
    "Employee.noOfEmployee"
   ]
  },
  {
   "cell_type": "markdown",
   "metadata": {},
   "source": [
    "# Class method"
   ]
  },
  {
   "cell_type": "code",
   "execution_count": 15,
   "metadata": {},
   "outputs": [
    {
     "data": {
      "text/plain": [
       "1.1"
      ]
     },
     "execution_count": 15,
     "metadata": {},
     "output_type": "execute_result"
    }
   ],
   "source": [
    "class Employee:\n",
    "    raiseAmt = 1.04\n",
    "    noOfEmployee = 0\n",
    "    def __init__(self, name, salary):\n",
    "        self.name = name\n",
    "        self.salary = salary\n",
    "        Employee.noOfEmployee += 1\n",
    "    def printName(self):\n",
    "        print(self.name)\n",
    "    def raiseAmount(self):\n",
    "        self.salary = self.salary * self.raiseAmt\n",
    "    @classmethod\n",
    "    def changeRaiseAmt(cls, amt):\n",
    "        cls.raiseAmt = amt\n",
    "        return cls.raiseAmt\n",
    "        \n",
    "Employee.changeRaiseAmt(1.10)"
   ]
  },
  {
   "cell_type": "code",
   "execution_count": 19,
   "metadata": {},
   "outputs": [
    {
     "name": "stdout",
     "output_type": "stream",
     "text": [
      "HBK\n"
     ]
    }
   ],
   "source": [
    "class Employee:\n",
    "    raiseAmt = 1.04\n",
    "    noOfEmployee = 0\n",
    "    def __init__(self, name, salary):\n",
    "        self.name = name\n",
    "        self.salary = salary\n",
    "        Employee.noOfEmployee += 1\n",
    "    def printName(self):\n",
    "        print(self.name)\n",
    "    def raiseAmount(self):\n",
    "        self.salary = self.salary * self.raiseAmt\n",
    "    @classmethod\n",
    "    def changeRaiseAmt(cls, amt):\n",
    "        cls.raiseAmt = amt\n",
    "        return cls.raiseAmt\n",
    "    @classmethod\n",
    "    def from_string(cls, emp_details):\n",
    "        name, salary = emp_details.split(' ')\n",
    "        return cls(name, float(salary))\n",
    "    \n",
    "\n",
    "e1 = Employee.from_string('HBK 8000000')\n",
    "e1.printName()"
   ]
  },
  {
   "cell_type": "markdown",
   "metadata": {},
   "source": [
    "# staticmethod"
   ]
  },
  {
   "cell_type": "code",
   "execution_count": 20,
   "metadata": {},
   "outputs": [
    {
     "data": {
      "text/plain": [
       "True"
      ]
     },
     "execution_count": 20,
     "metadata": {},
     "output_type": "execute_result"
    }
   ],
   "source": [
    "class Employee:\n",
    "    raiseAmt = 1.04\n",
    "    noOfEmployee = 0\n",
    "    \n",
    "    def __init__(self, name, salary):\n",
    "        self.name = name\n",
    "        self.salary = salary\n",
    "        Employee.noOfEmployee += 1\n",
    "    \n",
    "    def printName(self):\n",
    "        print(self.name)\n",
    "    \n",
    "    def raiseAmount(self):\n",
    "        self.salary = self.salary * self.raiseAmt\n",
    "    \n",
    "    @classmethod\n",
    "    def changeRaiseAmt(cls, amt):\n",
    "        cls.raiseAmt = amt\n",
    "        return cls.raiseAmt\n",
    "    \n",
    "    @classmethod\n",
    "    def from_string(cls, emp_details):\n",
    "        name, salary = emp_details.split(' ')\n",
    "        return cls(name, float(salary))\n",
    "    \n",
    "    @staticmethod\n",
    "    def isWorkDay(day):\n",
    "        if day == 'saturday' or day == 'sunday':\n",
    "            return False\n",
    "        return True\n",
    "    \n",
    "Employee.isWorkDay('monday')"
   ]
  },
  {
   "cell_type": "markdown",
   "metadata": {},
   "source": [
    "# Inheritance"
   ]
  },
  {
   "cell_type": "code",
   "execution_count": 21,
   "metadata": {},
   "outputs": [
    {
     "name": "stdout",
     "output_type": "stream",
     "text": [
      "Help on class Developer in module __main__:\n",
      "\n",
      "class Developer(Employee)\n",
      " |  Method resolution order:\n",
      " |      Developer\n",
      " |      Employee\n",
      " |      builtins.object\n",
      " |  \n",
      " |  Methods inherited from Employee:\n",
      " |  \n",
      " |  __init__(self, name, salary)\n",
      " |      Initialize self.  See help(type(self)) for accurate signature.\n",
      " |  \n",
      " |  printName(self)\n",
      " |  \n",
      " |  raiseAmount(self)\n",
      " |  \n",
      " |  ----------------------------------------------------------------------\n",
      " |  Class methods inherited from Employee:\n",
      " |  \n",
      " |  changeRaiseAmt(amt) from builtins.type\n",
      " |  \n",
      " |  from_string(emp_details) from builtins.type\n",
      " |  \n",
      " |  ----------------------------------------------------------------------\n",
      " |  Static methods inherited from Employee:\n",
      " |  \n",
      " |  isWorkDay(day)\n",
      " |  \n",
      " |  ----------------------------------------------------------------------\n",
      " |  Data descriptors inherited from Employee:\n",
      " |  \n",
      " |  __dict__\n",
      " |      dictionary for instance variables (if defined)\n",
      " |  \n",
      " |  __weakref__\n",
      " |      list of weak references to the object (if defined)\n",
      " |  \n",
      " |  ----------------------------------------------------------------------\n",
      " |  Data and other attributes inherited from Employee:\n",
      " |  \n",
      " |  noOfEmployee = 0\n",
      " |  \n",
      " |  raiseAmt = 1.04\n",
      "\n"
     ]
    }
   ],
   "source": [
    "class Developer(Employee):\n",
    "    pass\n",
    "\n",
    "help(Developer)"
   ]
  },
  {
   "cell_type": "code",
   "execution_count": null,
   "metadata": {},
   "outputs": [],
   "source": []
  }
 ],
 "metadata": {
  "kernelspec": {
   "display_name": "Python 3",
   "language": "python",
   "name": "python3"
  },
  "language_info": {
   "codemirror_mode": {
    "name": "ipython",
    "version": 3
   },
   "file_extension": ".py",
   "mimetype": "text/x-python",
   "name": "python",
   "nbconvert_exporter": "python",
   "pygments_lexer": "ipython3",
   "version": "3.6.6"
  }
 },
 "nbformat": 4,
 "nbformat_minor": 2
}
