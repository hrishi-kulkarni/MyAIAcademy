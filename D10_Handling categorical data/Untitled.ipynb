{
 "cells": [
  {
   "cell_type": "markdown",
   "metadata": {},
   "source": [
    "# Introduction:\n",
    "It is often useful to measure objects not in terms of quantity but in terms of some kind of quality. For example, when we consider gender of particular user, it is either female or male. We can't quantify this particular feature. Another example would be favourite color of particular user: either one from green, red, blue, yellow, pink etc. To handle such kind of data, we require knowledge of categorical data."
   ]
  },
  {
   "cell_type": "markdown",
   "metadata": {},
   "source": [
    "Not all categorical data is the same. Set of categorical data with no intrisic ordering is called ____nominal____."
   ]
  },
  {
   "cell_type": "raw",
   "metadata": {},
   "source": [
    "For example:\n",
    "* Red-Green-Blue\n",
    "* Man-Woman\n",
    "* Banana-Apple-Mango"
   ]
  },
  {
   "cell_type": "markdown",
   "metadata": {},
   "source": [
    "In contrast, when set of categories has some natural ordering we call it as ____ordinal____"
   ]
  },
  {
   "cell_type": "raw",
   "metadata": {},
   "source": [
    "For example:\n",
    "* Low-Medium-High\n",
    "* Young-Old\n",
    "* Disagree-Neutral-Agree"
   ]
  },
  {
   "cell_type": "code",
   "execution_count": null,
   "metadata": {},
   "outputs": [],
   "source": []
  }
 ],
 "metadata": {
  "kernelspec": {
   "display_name": "Python 3",
   "language": "python",
   "name": "python3"
  },
  "language_info": {
   "codemirror_mode": {
    "name": "ipython",
    "version": 3
   },
   "file_extension": ".py",
   "mimetype": "text/x-python",
   "name": "python",
   "nbconvert_exporter": "python",
   "pygments_lexer": "ipython3",
   "version": "3.6.6"
  }
 },
 "nbformat": 4,
 "nbformat_minor": 2
}
